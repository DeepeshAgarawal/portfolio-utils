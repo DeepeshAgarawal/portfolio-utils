{
  "nbformat": 4,
  "nbformat_minor": 0,
  "metadata": {
    "colab": {
      "name": "NAV_computation",
      "provenance": [],
      "collapsed_sections": [],
      "authorship_tag": "ABX9TyPwZerJ6Uh4cX+0c6/AXS6U",
      "include_colab_link": true
    },
    "kernelspec": {
      "display_name": "Python 3",
      "name": "python3"
    }
  },
  "cells": [
    {
      "cell_type": "markdown",
      "metadata": {
        "id": "view-in-github",
        "colab_type": "text"
      },
      "source": [
        "<a href=\"https://colab.research.google.com/github/DeepeshAgarawal/portfolio-utils/blob/main/NAV_computation.ipynb\" target=\"_parent\"><img src=\"https://colab.research.google.com/assets/colab-badge.svg\" alt=\"Open In Colab\"/></a>"
      ]
    },
    {
      "cell_type": "markdown",
      "metadata": {
        "id": "EJ0-0m3mb_fD"
      },
      "source": [
        "## Authorizing Gdrive to access sheets"
      ]
    },
    {
      "cell_type": "code",
      "metadata": {
        "colab": {
          "base_uri": "https://localhost:8080/"
        },
        "id": "FZpdIfQrK3J7",
        "outputId": "4f061add-6dfa-4eaf-ce66-72d509210374"
      },
      "source": [
        "!pip install pandas-datareader\r\n",
        "from pandas_datareader import data\r\n",
        "import matplotlib.pyplot as plt\r\n",
        "import pandas as pd\r\n",
        "from google.colab import auth\r\n",
        "auth.authenticate_user()\r\n",
        "import gspread\r\n",
        "from oauth2client.client import GoogleCredentials\r\n",
        "from datetime import date\r\n",
        "from datetime import timedelta\r\n",
        "import numpy as np \r\n",
        "gc = gspread.authorize(GoogleCredentials.get_application_default())"
      ],
      "execution_count": 20,
      "outputs": [
        {
          "output_type": "stream",
          "text": [
            "Requirement already satisfied: pandas-datareader in /usr/local/lib/python3.6/dist-packages (0.9.0)\n",
            "Requirement already satisfied: pandas>=0.23 in /usr/local/lib/python3.6/dist-packages (from pandas-datareader) (1.1.5)\n",
            "Requirement already satisfied: lxml in /usr/local/lib/python3.6/dist-packages (from pandas-datareader) (4.2.6)\n",
            "Requirement already satisfied: requests>=2.19.0 in /usr/local/lib/python3.6/dist-packages (from pandas-datareader) (2.23.0)\n",
            "Requirement already satisfied: python-dateutil>=2.7.3 in /usr/local/lib/python3.6/dist-packages (from pandas>=0.23->pandas-datareader) (2.8.1)\n",
            "Requirement already satisfied: numpy>=1.15.4 in /usr/local/lib/python3.6/dist-packages (from pandas>=0.23->pandas-datareader) (1.19.5)\n",
            "Requirement already satisfied: pytz>=2017.2 in /usr/local/lib/python3.6/dist-packages (from pandas>=0.23->pandas-datareader) (2018.9)\n",
            "Requirement already satisfied: chardet<4,>=3.0.2 in /usr/local/lib/python3.6/dist-packages (from requests>=2.19.0->pandas-datareader) (3.0.4)\n",
            "Requirement already satisfied: certifi>=2017.4.17 in /usr/local/lib/python3.6/dist-packages (from requests>=2.19.0->pandas-datareader) (2020.12.5)\n",
            "Requirement already satisfied: idna<3,>=2.5 in /usr/local/lib/python3.6/dist-packages (from requests>=2.19.0->pandas-datareader) (2.10)\n",
            "Requirement already satisfied: urllib3!=1.25.0,!=1.25.1,<1.26,>=1.21.1 in /usr/local/lib/python3.6/dist-packages (from requests>=2.19.0->pandas-datareader) (1.24.3)\n",
            "Requirement already satisfied: six>=1.5 in /usr/local/lib/python3.6/dist-packages (from python-dateutil>=2.7.3->pandas>=0.23->pandas-datareader) (1.15.0)\n"
          ],
          "name": "stdout"
        }
      ]
    },
    {
      "cell_type": "markdown",
      "metadata": {
        "id": "UJoRhEDpqOSU"
      },
      "source": [
        "## Reading the tradebook provided by your broker\r\n",
        "\r\n",
        "Reading a Google Sheet which contains all the buy/sell trasactions in your demat account (aka tradebook).\r\n",
        "\r\n",
        "<p>Format of the tradebook:</p>\r\n",
        "\r\n",
        ">Header|Description\r\n",
        ">---|---\r\n",
        ">Trade Date|Date of transaction\r\n",
        ">Symbol|Symbol of the security traded as mentioned in Yahoo Finance\r\n",
        ">Trade Type| buy or sell\r\n",
        ">Qty|Quantity traded\r\n",
        ">Price|Trade price\r\n",
        "\r\n",
        "<p>Example entry:</p>\r\n",
        "\r\n",
        ">Trade Date|Symbol|Trade Type|Qty|Price\r\n",
        ">---|---|---|---|---\r\n",
        ">2019-04-11|ASIANPAINT.NS|buy|5|1421\r\n"
      ]
    },
    {
      "cell_type": "code",
      "metadata": {
        "id": "IGHDAIKCgz1k",
        "colab": {
          "base_uri": "https://localhost:8080/"
        },
        "outputId": "453c9357-19c7-483f-e11b-472991f50200"
      },
      "source": [
        "## Enter the URL of the Google Sheet\r\n",
        "wb = gc.open_by_url('https://docs.google.com/spreadsheets/d/1UMcytgb5_kkpnnnhf8RVbSzanispp-x44hiJTR94cGc/edit?usp=sharing')\r\n",
        "sheet = wb.worksheet('Sheet1')\r\n",
        "data_df = sheet.get_all_values()\r\n",
        "df = pd.DataFrame(data_df)\r\n",
        "df.columns = df.iloc[0]\r\n",
        "df = df.iloc[1:]\r\n",
        "df.head()\r\n",
        "df['Trade Date'] = pd.to_datetime(df['Trade Date'])\r\n",
        "df['Price'] = pd.to_numeric(df['Price'], errors='coerce')\r\n",
        "df['Qty'] = pd.to_numeric(df['Qty'], errors='coerce')\r\n",
        "print(df.head())\r\n",
        "start_date = df['Trade Date'].iloc[0]\r\n",
        "symbols = df['Symbol'].unique() "
      ],
      "execution_count": 32,
      "outputs": [
        {
          "output_type": "stream",
          "text": [
            "0 Trade Date         Symbol Trade Type  Qty    Price\n",
            "1 2019-04-11  ASIANPAINT.NS        buy    5  1421.00\n",
            "2 2019-04-11        RCOM.NS        buy  500     2.80\n",
            "3 2019-06-07        RCOM.NS       sell    1     1.85\n",
            "4 2019-07-31  ASIANPAINT.NS       sell    1  1510.00\n",
            "5 2019-07-31  ASIANPAINT.NS       sell    2  1515.00\n"
          ],
          "name": "stdout"
        }
      ]
    },
    {
      "cell_type": "markdown",
      "metadata": {
        "id": "_izc7H9FpxVe"
      },
      "source": [
        "## Getting Data for the symbols present in the tradebook from Yahoo Finance."
      ]
    },
    {
      "cell_type": "code",
      "metadata": {
        "id": "YCD1bvS_mSGc"
      },
      "source": [
        "#print(symbols)\r\n",
        "panel_data = {}\r\n",
        "for symbol in symbols:\r\n",
        "  panel_data[symbol] = data.DataReader(symbol, 'yahoo', start_date, date.today() )['Close']\r\n",
        "#print(panel_data)"
      ],
      "execution_count": 22,
      "outputs": []
    },
    {
      "cell_type": "markdown",
      "metadata": {
        "id": "lC1wWOmCbEHF"
      },
      "source": [
        "## Getting Benchmark data"
      ]
    },
    {
      "cell_type": "code",
      "metadata": {
        "id": "emNlnFhTyix7"
      },
      "source": [
        "def normalize(arr):\r\n",
        "  norm_arr=[]\r\n",
        "  for k in arr:\r\n",
        "    norm_arr.append(k*100/arr[0])\r\n",
        "  return norm_arr\r\n",
        "\r\n",
        "## Yahoo doesnt return historical closing prices of mid/small cap indices hence not using it for now, can replace it with other API calls\r\n",
        "nifty = data.DataReader('^NSEI', 'yahoo', start_date, date.today())['Close']\r\n",
        "#nifty_midcap150 = data.DataReader('BSEMID', 'quandl', start_date, date.today(), access_key=\"PfFeXvkrQaYu1dYs6Mdx\")['Close']\r\n",
        "nifty_midcap150 = data.DataReader('NIFTYMIDCAP150.NS', 'yahoo', start_date, date.today())['Close']\r\n",
        "nifty_smallcap250 = data.DataReader('NIFTYSMLCAP250.NS', 'yahoo', start_date, date.today())['Close']\r\n",
        "\r\n",
        "nifty_arr             =np.array(normalize(nifty))\r\n",
        "nifty_midcap150_arr   =np.array(normalize(nifty_midcap150))\r\n",
        "nifty_smallcap250_arr =np.array(normalize(nifty_smallcap250))"
      ],
      "execution_count": 23,
      "outputs": []
    },
    {
      "cell_type": "markdown",
      "metadata": {
        "id": "A_c9b5BtbQib"
      },
      "source": [
        "## Function to return trades upto a certain date"
      ]
    },
    {
      "cell_type": "code",
      "metadata": {
        "id": "-k_iWkPjVGpg"
      },
      "source": [
        "def get_holdings(holdings_date):\r\n",
        "  return df[df['Trade Date']<=holdings_date]"
      ],
      "execution_count": 24,
      "outputs": []
    },
    {
      "cell_type": "markdown",
      "metadata": {
        "id": "aKHLfJ-CGtkN"
      },
      "source": [
        "## Function to factor in stock splits\r\n",
        "\r\n",
        "If on the day of trasaction the 'Price' entry is > 2 times the closing price of that day it is considered as a stock split."
      ]
    },
    {
      "cell_type": "code",
      "metadata": {
        "id": "Xid7BS_sqpvU"
      },
      "source": [
        "\r\n",
        "for index, row in df.iterrows():\r\n",
        "    #to account for stock splits\r\n",
        "    split = 1\r\n",
        "    if (float(row['Price'])/float(panel_data[row['Symbol']][row['Trade Date']])) > 2:\r\n",
        "      print(\"Found Split\")\r\n",
        "      print(\"Before split \\n\", df.loc[index])\r\n",
        "      split = round(float(row['Price'])/float(panel_data[row['Symbol']][row['Trade Date']]))\r\n",
        "      df.loc[index,('Qty')] = float(row['Qty'])*split\r\n",
        "      df.loc[index,('Price')] = float(row['Price'])/split      \r\n",
        "      print(\"\\nAfter split \\n\", df.loc[index])\r\n"
      ],
      "execution_count": 25,
      "outputs": []
    },
    {
      "cell_type": "markdown",
      "metadata": {
        "id": "RFo97lfrbet-"
      },
      "source": [
        "## Calculates the NAV, AUM and number of outstanding units of our mutual fund "
      ]
    },
    {
      "cell_type": "code",
      "metadata": {
        "id": "nJV3G8H3pR9d"
      },
      "source": [
        "aum = 0\n",
        "nav = 100\n",
        "units = 0\n",
        "ctr=0\n",
        "cash=0\n",
        "nav_arr = []\n",
        "start_date = df['Trade Date'].iloc[0]\n",
        "\n",
        "for i in nifty.keys():\n",
        "  aum=0\n",
        "  holding_current_df = get_holdings(i)   \n",
        "  #print(holding_current_df)\n",
        "  for index, row in holding_current_df.iterrows():\n",
        "    if row['Trade Type'] == 'buy':\n",
        "      if index > ctr:\n",
        "        buy_val = float(row['Price'])*float(row['Qty'])*float(1.0)\n",
        "        if buy_val >= cash:         \n",
        "          units += (buy_val-cash)/nav        \n",
        "          cash = 0              \n",
        "        else:\n",
        "          cash = cash - buy_val\n",
        "      aum += float(panel_data[row['Symbol']][i])*float(row['Qty'])*float(1.0)\n",
        "    else:\n",
        "      if index > ctr:\n",
        "        cash += float(row['Price'])*float(row['Qty']) # A sell order doesnt reduce the number of units however this cash is utilized in the next buy order to balance out the number of outstanding units\n",
        "      aum += float(panel_data[row['Symbol']][i])*float(row['Qty'])*float(-1.0) \n",
        "  aum += cash\n",
        "  ctr=holding_current_df.shape[0]\n",
        "  nav = aum/units\n",
        "  #units -= cash/nav\n",
        "  #cash=0\n",
        "  nav_arr.append(nav)\n",
        "  #print(i)\n",
        "  #print(cash,nav,units,aum)\n",
        "  #print(holding_current_df)"
      ],
      "execution_count": 26,
      "outputs": []
    },
    {
      "cell_type": "markdown",
      "metadata": {
        "id": "ZwhgylymbtbD"
      },
      "source": [
        "## Plotting the relative return graphs for the past X days "
      ]
    },
    {
      "cell_type": "code",
      "metadata": {
        "colab": {
          "base_uri": "https://localhost:8080/",
          "height": 265
        },
        "id": "PqQ8gMv-VjMU",
        "outputId": "478f247d-1473-42d5-f539-e82fc28f7ba9"
      },
      "source": [
        "import matplotlib.pyplot as plt\r\n",
        "def get_past_x_days_normalized_data(arr, days):\r\n",
        "  temp = [arr[j] for j in range(len(arr)-days,len(arr))]\r\n",
        "  temp_arr = np.array(normalize(temp))\r\n",
        "  return temp_arr\r\n",
        "\r\n",
        "def plot_past_x_days(past_days=365):\r\n",
        "  temp_nav_arr = get_past_x_days_normalized_data(nav_arr,past_days)\r\n",
        "  temp_nifty_arr = get_past_x_days_normalized_data(nifty_arr,past_days)\r\n",
        "  #temp_nifty_midcap150_arr = get_past_x_days_normalized_data(nifty_midcap150_arr,past_days)\r\n",
        "  #temp_nifty_smallcap250_arr = get_past_x_days_normalized_data(nifty_smallcap250_arr,past_days)\r\n",
        "  plt.plot(temp_nav_arr,'b',label='My Portfolio')\r\n",
        "  plt.plot(temp_nifty_arr,'r',label='NIFTY 50')\r\n",
        "  #plt.plot(temp_nifty_midcap150_arr,'g',label='NIFTY Midcap 150')\r\n",
        "  #plt.plot(temp_nifty_smallcap250_arr,'y',label='NIFTY Smallcap 250')\r\n",
        "  plt.legend()\r\n",
        "  for var in (temp_nav_arr, temp_nifty_arr):\r\n",
        "      plt.annotate('%0.2f' % var.max(), xy=(1, var.max()), xytext=(8, 0), \r\n",
        "                  xycoords=('axes fraction', 'data'), textcoords='offset points')\r\n",
        "  plt.show()\r\n",
        "\r\n",
        "\r\n",
        "plot_past_x_days(14)"
      ],
      "execution_count": 27,
      "outputs": [
        {
          "output_type": "display_data",
          "data": {
            "image/png": "[encoded data removed]",
            "text/plain": [
              "<Figure size 432x288 with 1 Axes>"
            ]
          },
          "metadata": {
            "tags": [],
            "needs_background": "light"
          }
        }
      ]
    }
  ]
}