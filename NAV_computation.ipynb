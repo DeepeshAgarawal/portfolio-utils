{
  "nbformat": 4,
  "nbformat_minor": 0,
  "metadata": {
    "colab": {
      "name": "NAV_computation",
      "provenance": [],
      "collapsed_sections": [],
      "authorship_tag": "ABX9TyO545457ZGbDM/Rcrh3p+tB",
      "include_colab_link": true
    },
    "kernelspec": {
      "display_name": "Python 3",
      "name": "python3"
    }
  },
  "cells": [
    {
      "cell_type": "markdown",
      "metadata": {
        "id": "view-in-github",
        "colab_type": "text"
      },
      "source": [
        "<a href=\"https://colab.research.google.com/github/DeepeshAgarawal/portfolio-utils/blob/main/NAV_computation.ipynb\" target=\"_parent\"><img src=\"https://colab.research.google.com/assets/colab-badge.svg\" alt=\"Open In Colab\"/></a>"
      ]
    },
    {
      "cell_type": "markdown",
      "metadata": {
        "id": "EJ0-0m3mb_fD"
      },
      "source": [
        "## Authorizing Gdrive to access sheets"
      ]
    },
    {
      "cell_type": "code",
      "metadata": {
        "colab": {
          "base_uri": "https://localhost:8080/"
        },
        "id": "FZpdIfQrK3J7",
        "outputId": "aa412a14-6786-411c-b6d6-b5da0512ec3c"
      },
      "source": [
        "!pip install pandas-datareader\r\n",
        "from pandas_datareader import data\r\n",
        "import matplotlib.pyplot as plt\r\n",
        "import pandas as pd\r\n",
        "from google.colab import auth\r\n",
        "auth.authenticate_user()\r\n",
        "import gspread\r\n",
        "from oauth2client.client import GoogleCredentials\r\n",
        "from datetime import date\r\n",
        "from datetime import timedelta\r\n",
        "import numpy as np \r\n",
        "gc = gspread.authorize(GoogleCredentials.get_application_default())"
      ],
      "execution_count": 105,
      "outputs": [
        {
          "output_type": "stream",
          "text": [
            "Requirement already satisfied: pandas-datareader in /usr/local/lib/python3.7/dist-packages (0.9.0)\n",
            "Requirement already satisfied: requests>=2.19.0 in /usr/local/lib/python3.7/dist-packages (from pandas-datareader) (2.23.0)\n",
            "Requirement already satisfied: lxml in /usr/local/lib/python3.7/dist-packages (from pandas-datareader) (4.2.6)\n",
            "Requirement already satisfied: pandas>=0.23 in /usr/local/lib/python3.7/dist-packages (from pandas-datareader) (1.1.5)\n",
            "Requirement already satisfied: idna<3,>=2.5 in /usr/local/lib/python3.7/dist-packages (from requests>=2.19.0->pandas-datareader) (2.10)\n",
            "Requirement already satisfied: urllib3!=1.25.0,!=1.25.1,<1.26,>=1.21.1 in /usr/local/lib/python3.7/dist-packages (from requests>=2.19.0->pandas-datareader) (1.24.3)\n",
            "Requirement already satisfied: certifi>=2017.4.17 in /usr/local/lib/python3.7/dist-packages (from requests>=2.19.0->pandas-datareader) (2020.12.5)\n",
            "Requirement already satisfied: chardet<4,>=3.0.2 in /usr/local/lib/python3.7/dist-packages (from requests>=2.19.0->pandas-datareader) (3.0.4)\n",
            "Requirement already satisfied: numpy>=1.15.4 in /usr/local/lib/python3.7/dist-packages (from pandas>=0.23->pandas-datareader) (1.19.5)\n",
            "Requirement already satisfied: pytz>=2017.2 in /usr/local/lib/python3.7/dist-packages (from pandas>=0.23->pandas-datareader) (2018.9)\n",
            "Requirement already satisfied: python-dateutil>=2.7.3 in /usr/local/lib/python3.7/dist-packages (from pandas>=0.23->pandas-datareader) (2.8.1)\n",
            "Requirement already satisfied: six>=1.5 in /usr/local/lib/python3.7/dist-packages (from python-dateutil>=2.7.3->pandas>=0.23->pandas-datareader) (1.15.0)\n"
          ],
          "name": "stdout"
        }
      ]
    },
    {
      "cell_type": "markdown",
      "metadata": {
        "id": "UJoRhEDpqOSU"
      },
      "source": [
        "## Reading the tradebook provided by your broker\r\n",
        "\r\n",
        "Reading a Google Sheet which contains all the buy/sell trasactions in your demat account (aka tradebook).\r\n",
        "\r\n",
        "<p>Format of the tradebook:</p>\r\n",
        "\r\n",
        ">Header|Description\r\n",
        ">---|---\r\n",
        ">Trade Date|Date of transaction\r\n",
        ">Symbol|Symbol of the security traded as mentioned in Yahoo Finance\r\n",
        ">Trade Type| buy or sell\r\n",
        ">Qty|Quantity traded\r\n",
        ">Price|Trade price\r\n",
        "\r\n",
        "<p>Example entry:</p>\r\n",
        "\r\n",
        ">Trade Date|Symbol|Trade Type|Qty|Price\r\n",
        ">---|---|---|---|---\r\n",
        ">2019-04-11|ASIANPAINT.NS|buy|5|1421\r\n"
      ]
    },
    {
      "cell_type": "code",
      "metadata": {
        "colab": {
          "base_uri": "https://localhost:8080/"
        },
        "id": "IGHDAIKCgz1k",
        "outputId": "69c64dd5-aee5-45be-99c1-73390eb07a40"
      },
      "source": [
        "## Enter the URL of the Google Sheet\r\n",
        "wb = gc.open_by_url('https://docs.google.com/spreadsheets/d/1UMcytgb5_kkpnnnhf8RVbSzanispp-x44hiJTR94cGc/edit?usp=sharing')\r\n",
        "\r\n",
        "sheet = wb.worksheet('Sheet1')\r\n",
        "data_df = sheet.get_all_values()\r\n",
        "df = pd.DataFrame(data_df)\r\n",
        "df.columns = df.iloc[0]\r\n",
        "df = df.iloc[1:]\r\n",
        "df.head()\r\n",
        "df['Trade Date'] = pd.to_datetime(df['Trade Date'])\r\n",
        "df['Price'] = pd.to_numeric(df['Price'], errors='coerce')\r\n",
        "df['Qty'] = pd.to_numeric(df['Qty'], errors='coerce')\r\n",
        "print(df.tail())\r\n",
        "start_date = df['Trade Date'].iloc[0]\r\n",
        "symbols = df['Symbol'].unique() \r\n"
      ],
      "execution_count": 106,
      "outputs": [
        {
          "output_type": "stream",
          "text": [
            "0 Trade Date      Symbol Trade Type  Qty    Price\n",
            "4 2019-07-31  ASIANPAINT       sell    1  1510.00\n",
            "5 2019-07-31  ASIANPAINT       sell    2  1515.00\n",
            "6 2019-08-09  ASIANPAINT       sell    2  1570.00\n",
            "7 2019-08-13    RELIANCE        buy   14  1257.65\n",
            "8 2019-09-16    AXISBANK        buy    2   667.40\n"
          ],
          "name": "stdout"
        }
      ]
    },
    {
      "cell_type": "code",
      "metadata": {
        "id": "fkJbKUtEAwxo"
      },
      "source": [
        "symbols_start_date={}\r\n",
        "for sym in symbols:\r\n",
        "  symbols_start_date[sym] = df['Trade Date'][(df['Symbol'].values == sym).argmax()+1]"
      ],
      "execution_count": 107,
      "outputs": []
    },
    {
      "cell_type": "code",
      "metadata": {
        "colab": {
          "base_uri": "https://localhost:8080/"
        },
        "id": "idwm284PBYAA",
        "outputId": "8cac0f82-fb42-4895-e120-216c002f5adc"
      },
      "source": [
        "print(symbols_start_date)"
      ],
      "execution_count": 108,
      "outputs": [
        {
          "output_type": "stream",
          "text": [
            "{'ASIANPAINT': Timestamp('2019-04-11 00:00:00'), 'RCOM': Timestamp('2019-04-11 00:00:00'), 'RELIANCE': Timestamp('2019-08-13 00:00:00'), 'AXISBANK': Timestamp('2019-09-16 00:00:00')}\n"
          ],
          "name": "stdout"
        }
      ]
    },
    {
      "cell_type": "markdown",
      "metadata": {
        "id": "_izc7H9FpxVe"
      },
      "source": [
        "## Getting Data for the symbols present in the tradebook from Yahoo Finance."
      ]
    },
    {
      "cell_type": "code",
      "metadata": {
        "id": "YCD1bvS_mSGc"
      },
      "source": [
        "#print(symbols)\r\n",
        "panel_data = {}\r\n",
        "for symbol in symbols:\r\n",
        "  if symbol == \"BCG\":\r\n",
        "    panel_data[symbol] = data.DataReader(symbol+\".NS\", 'yahoo', start_date, date.today() )['Close']\r\n",
        "  else:\r\n",
        "    panel_data[symbol] = data.DataReader(symbol+\".NS\", 'yahoo', symbols_start_date[symbol], date.today() )['Close']\r\n",
        "#print(panel_data)"
      ],
      "execution_count": 109,
      "outputs": []
    },
    {
      "cell_type": "markdown",
      "metadata": {
        "id": "lC1wWOmCbEHF"
      },
      "source": [
        "## Getting Benchmark data"
      ]
    },
    {
      "cell_type": "code",
      "metadata": {
        "id": "emNlnFhTyix7"
      },
      "source": [
        "def normalize(arr):\n",
        "  norm_arr=[]\n",
        "  for k in arr:\n",
        "    norm_arr.append(k*100/arr[0])\n",
        "  return norm_arr\n",
        " \n",
        "indices  = {}\n",
        "## Yahoo doesnt return historical closing prices of mid/small cap indices hence not using it for now, can replace it with other API calls\n",
        "nifty = data.DataReader('^NSEI', 'yahoo', start_date, date.today())['Close']\n",
        "#nifty_midcap150 = data.DataReader('BSEMID', 'quandl', start_date, date.today(), access_key=\"PfFeXvkrQaYu1dYs6Mdx\")['Close']\n",
        "indices['NIFTY 50'] = nifty\n",
        "indices['NIFTY MIDCAP 100'] = data.DataReader('^CRSMID', 'yahoo', start_date, date.today())['Close']\n",
        "indices['NIFTY MIDCAP 50'] = data.DataReader('^NSEMDCP50', 'yahoo', start_date, date.today())['Close']\n",
        "indices['NIFTY 500'] = data.DataReader('^CRSLDX', 'yahoo', start_date, date.today())['Close']\n",
        " \n",
        "nifty_arr             = np.array(normalize(nifty))\n",
        "\n",
        "# print(indices)\n",
        "indices_arr = {}\n",
        "for temp in indices:\n",
        "  indices_arr[temp] = np.array(normalize(indices[temp]))\n"
      ],
      "execution_count": 110,
      "outputs": []
    },
    {
      "cell_type": "markdown",
      "metadata": {
        "id": "A_c9b5BtbQib"
      },
      "source": [
        "## Function to return trades upto a certain date"
      ]
    },
    {
      "cell_type": "code",
      "metadata": {
        "id": "-k_iWkPjVGpg"
      },
      "source": [
        "def get_holdings(holdings_date):\r\n",
        "  return df[df['Trade Date']<=holdings_date]"
      ],
      "execution_count": 111,
      "outputs": []
    },
    {
      "cell_type": "markdown",
      "metadata": {
        "id": "aKHLfJ-CGtkN"
      },
      "source": [
        "## Function to factor in stock splits\r\n",
        "\r\n",
        "If on the day of trasaction the 'Price' entry is > 2 times the closing price of that day it is considered as a stock split."
      ]
    },
    {
      "cell_type": "code",
      "metadata": {
        "id": "Xid7BS_sqpvU"
      },
      "source": [
        "for index, row in df.iterrows():\r\n",
        "    #to account for stock splits\r\n",
        "    split = 1\r\n",
        "    if (float(row['Price'])/float(panel_data[row['Symbol']][row['Trade Date']])) > 1.9:\r\n",
        "      print(\"Found Split\")\r\n",
        "      print(\"Before split \\n\", df.loc[index])\r\n",
        "      split = round(float(row['Price'])/float(panel_data[row['Symbol']][row['Trade Date']]))\r\n",
        "      df.loc[index,('Qty')] = float(row['Qty'])*split\r\n",
        "      df.loc[index,('Price')] = float(row['Price'])/split      \r\n",
        "      print(\"\\nAfter split \\n\", df.loc[index])\r\n"
      ],
      "execution_count": 112,
      "outputs": []
    },
    {
      "cell_type": "markdown",
      "metadata": {
        "id": "RFo97lfrbet-"
      },
      "source": [
        "## Calculates the NAV, AUM and number of outstanding units of our mutual fund "
      ]
    },
    {
      "cell_type": "code",
      "metadata": {
        "id": "nJV3G8H3pR9d"
      },
      "source": [
        "\n",
        "aum = 0\n",
        "nav = 100\n",
        "units = 0\n",
        "ctr=0\n",
        "cash=0\n",
        "nav_arr = []\n",
        "start_date = df['Trade Date'].iloc[0]\n",
        " \n",
        "for i in nifty.keys():\n",
        "  # if i == date(2021,1,14):\n",
        "  #   raise Exception('I know Python!')\n",
        "\n",
        "  # if len(nav_arr) > 81 :\n",
        "  #   break\n",
        "  # print(len(nav_arr),i,cash,nav,units,aum)\n",
        "  aum=0\n",
        "  holding_current_df = get_holdings(i)   \n",
        "  #print(holding_current_df)\n",
        "\n",
        "  # intraday handling \n",
        "  intraday_sum = {}\n",
        "  for sym in symbols:\n",
        "    intraday_sum[sym] = 0;\n",
        "\n",
        "  for index, row in holding_current_df.iterrows(): \n",
        "    if index > ctr:\n",
        "      if row['Trade Type'] == 'buy':     \n",
        "        intraday_sum[row['Symbol']] +=  row['Qty'] \n",
        "      else:\n",
        "        intraday_sum[row['Symbol']] -=  row['Qty']  \n",
        "\n",
        "  for index, row in holding_current_df.iterrows():    \n",
        "    if row['Trade Type'] == 'buy':\n",
        "      if index > ctr:\n",
        "        buy_val = float(row['Price'])*float(row['Qty'])*float(1.0)\n",
        "        if intraday_sum[row['Symbol']] !=0:\n",
        "          if buy_val >= cash:           \n",
        "            units += (buy_val-cash)/nav        \n",
        "            cash = 0              \n",
        "          else:\n",
        "            cash = cash - buy_val\n",
        "      aum += float(panel_data[row['Symbol']][i])*float(row['Qty'])*float(1.0)\n",
        "    else:\n",
        "      if intraday_sum[row['Symbol']] !=0:\n",
        "        if index > ctr:\n",
        "          cash += float(row['Price'])*float(row['Qty']) # A sell order doesnt reduce the number of units however this cash is utilized in the next buy order to balance out the number of outstanding units\n",
        "      aum += float(panel_data[row['Symbol']][i])*float(row['Qty'])*float(-1.0) \n",
        "  # print(len(nav_arr),i,cash,nav,units,aum)\n",
        "  aum += cash\n",
        "  ctr=holding_current_df.shape[0]\n",
        "  nav = aum/units\n",
        "  # units -= cash/nav\n",
        "  # aum -=cash  \n",
        "  # cash=0  \n",
        "  nav_arr.append(nav)\n",
        "  # print(len(nav_arr),i,cash,nav,units,aum)\n",
        "  #print(i)\n",
        "  #print(holding_current_df)"
      ],
      "execution_count": 113,
      "outputs": []
    },
    {
      "cell_type": "markdown",
      "metadata": {
        "id": "ZwhgylymbtbD"
      },
      "source": [
        "## Plotting the relative return graphs for the past X days "
      ]
    },
    {
      "cell_type": "code",
      "metadata": {
        "id": "PqQ8gMv-VjMU",
        "colab": {
          "base_uri": "https://localhost:8080/",
          "height": 265
        },
        "outputId": "0bb2be56-18fd-4328-91ff-9bcf3e5ae272"
      },
      "source": [
        "import matplotlib.pyplot as plt\n",
        "def get_past_x_days_normalized_data(arr, days):\n",
        "  if len(arr) < days:\n",
        "     raise Exception(\"Please enter past days between 2 and\", len(arr))    \n",
        "  temp = [arr[j] for j in range(len(arr)-days,len(arr))]\n",
        "  temp_arr = np.array(normalize(temp))\n",
        "  return temp_arr\n",
        " \n",
        "def plot_past_x_days(past_days=len(nav_arr)):\n",
        "  if isinstance(past_days, str) and past_days.lower() == 'ytd':\n",
        "    past_days = (date.today() - date(date.today().year, 1, 1)).days\n",
        " \n",
        "  past_days = len(nifty[date.today()-timedelta(days=past_days):date.today()])  \n",
        "  temp_nav_arr = get_past_x_days_normalized_data(nav_arr,past_days)\n",
        "  temp_ind_arr = {}\n",
        "  for ind_arr in indices_arr:\n",
        "    temp_ind_arr[ind_arr] = get_past_x_days_normalized_data(indices_arr[ind_arr],past_days)  \n",
        "    plt.plot(temp_ind_arr[ind_arr],label=ind_arr)\n",
        "\n",
        "  #temp_nifty_smallcap250_arr = get_past_x_days_normalized_data(nifty_smallcap250_arr,past_days)\n",
        "  plt.plot(temp_nav_arr,'black',label='My Portfolio')\n",
        "\n",
        "  #plt.plot(temp_nifty_smallcap250_arr,'y',label='NIFTY Smallcap 250')\n",
        "  plt.legend()\n",
        "  plt.annotate('%0.2f' % temp_nav_arr[-1], xy=(1, temp_nav_arr[-1]), xytext=(8, 0), \n",
        "                  xycoords=('axes fraction', 'data'), textcoords='offset points')\n",
        "  for var in temp_ind_arr:      \n",
        "      plt.annotate('%0.2f' % temp_ind_arr[var][-1], xy=(1, temp_ind_arr[var][-1]), xytext=(8, 0), \n",
        "                  xycoords=('axes fraction', 'data'), textcoords='offset points')\n",
        "  plt.show()\n",
        " \n",
        "plot_past_x_days(30)"
      ],
      "execution_count": 114,
      "outputs": [
        {
          "output_type": "display_data",
          "data": {
            "image/png": "[encoded data removed]",
            "text/plain": [
              "<Figure size 432x288 with 1 Axes>"
            ]
          },
          "metadata": {
            "tags": [],
            "needs_background": "light"
          }
        }
      ]
    },
    {
      "cell_type": "code",
      "metadata": {
        "id": "USCjj38pVoAC"
      },
      "source": [
        ""
      ],
      "execution_count": 114,
      "outputs": []
    }
  ]
}